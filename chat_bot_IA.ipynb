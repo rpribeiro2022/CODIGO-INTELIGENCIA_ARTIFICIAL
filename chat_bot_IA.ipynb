{
  "nbformat": 4,
  "nbformat_minor": 0,
  "metadata": {
    "colab": {
      "provenance": [],
      "authorship_tag": "ABX9TyOTe+4WsWuIuQV001UqOVVZ",
      "include_colab_link": true
    },
    "kernelspec": {
      "name": "python3",
      "display_name": "Python 3"
    },
    "language_info": {
      "name": "python"
    }
  },
  "cells": [
    {
      "cell_type": "markdown",
      "metadata": {
        "id": "view-in-github",
        "colab_type": "text"
      },
      "source": [
        "<a href=\"https://colab.research.google.com/github/rpribeiro2022/codigo-ia/blob/main/chat_bot_IA.ipynb\" target=\"_parent\"><img src=\"https://colab.research.google.com/assets/colab-badge.svg\" alt=\"Open In Colab\"/></a>"
      ]
    },
    {
      "cell_type": "code",
      "source": [
        "!pip install -q -U google-generativeai\n"
      ],
      "metadata": {
        "id": "mVVYP_AdPY5S"
      },
      "execution_count": 5,
      "outputs": []
    },
    {
      "cell_type": "code",
      "source": [
        "import google.generativeai as genai\n",
        "GOOGLE_API_KEY = \"incluida aqui sua API KEY\"\n",
        "genai.configure(api_key=GOOGLE_API_KEY)\n"
      ],
      "metadata": {
        "id": "usIjU0b7QWsB"
      },
      "execution_count": 6,
      "outputs": []
    },
    {
      "cell_type": "code",
      "source": [
        "model = genai.GenerativeModel(\"gemini-pro\")"
      ],
      "metadata": {
        "id": "f0mFVD0_RmZc"
      },
      "execution_count": 7,
      "outputs": []
    },
    {
      "cell_type": "code",
      "source": [
        "response = model.generate_content(\"Conte uma historia sobre Bob Marley.\")\n",
        "print(response.text)"
      ],
      "metadata": {
        "colab": {
          "base_uri": "https://localhost:8080/",
          "height": 332
        },
        "id": "gMg3tkEmRsZ8",
        "outputId": "df65eaa0-e80d-44a8-bcb2-dd057ac63f71"
      },
      "execution_count": 8,
      "outputs": [
        {
          "output_type": "stream",
          "name": "stdout",
          "text": [
            "Nas colinas ondulantes de Trenchtown, Jamaica, uma lenda musical estava para emergir. Nasceu Robert Nesta Marley, filho de um oficial do exército branco e uma jovem negra.\n",
            "\n",
            "Aos 12 anos, Bob se mudou para os guetos de Kingston, onde foi influenciado pela música rastafári. Com sua voz rouca e letras cheias de alma, ele formou um grupo chamado \"The Wailers\" com seus amigos Bunny Wailer e Peter Tosh.\n",
            "\n",
            "Em 1963, The Wailers lançou seu primeiro single, \"Simmer Down\", que se tornou um sucesso instantâneo na Jamaica. Eles continuaram a lançar músicas com mensagens de paz, amor e justiça social.\n",
            "\n",
            "No entanto, a fama de Marley não foi sem controvérsias. Ele foi preso várias vezes por posse de maconha e suas letras abertamente políticas foram consideradas subversivas pelo governo jamaicano.\n",
            "\n",
            "Apesar dos obstáculos, a música de Marley ressoou com pessoas em todo o mundo. Suas canções sobre redenção, união e espiritualidade se tornaram hinos para os marginalizados e oprimidos.\n",
            "\n",
            "Em 1972, The Wailers lançou seu álbum inovador \"Catch a Fire\", que os levou ao estrelato internacional. Eles seguiram com sucessos como \"Exodus\" (1977) e \"Uprising\" (1980).\n",
            "\n",
            "Em 1976, Marley sofreu um ferimento no dedão do pé durante uma partida de futebol. O ferimento infeccionou e se espalhou para o resto do corpo. Apesar de lutar bravamente contra a doença, Marley faleceu em 11 de maio de 1981, aos 36 anos.\n",
            "\n",
            "O funeral de Marley foi um evento nacional na Jamaica, com milhares de pessoas se reunindo para prestar suas últimas homenagens. Ele foi enterrado em sua cidade natal, Nine Mile, onde seu mausoléu se tornou um local de peregrinação.\n",
            "\n",
            "Hoje, Bob Marley é considerado um dos artistas musicais mais influentes e amados de todos os tempos. Sua música continua a inspirar e unir pessoas em todo o mundo, servindo como um testemunho intemporal de seu espírito revolucionário e sua mensagem de esperança e redenção.\n"
          ]
        }
      ]
    },
    {
      "cell_type": "code",
      "source": [
        "generation_config = {\n",
        "    \"candidate_count\": 1,\n",
        "    \"temperature\": 0.5,\n",
        "}"
      ],
      "metadata": {
        "id": "4CIO94ongxXk"
      },
      "execution_count": 9,
      "outputs": []
    },
    {
      "cell_type": "code",
      "source": [
        "safety_settings = {\n",
        "    \"HARASSMENT\": \"BLOCK_NONE\",\n",
        "    \"HATE\": \"BLOCK_NONE\",\n",
        "    \"SEXUAL\": \"BLOCK_NONE\",\n",
        "    \"DANGEROUS\": \"BLOCK_NONE\",\n",
        "}"
      ],
      "metadata": {
        "id": "daImQ3OehO0H"
      },
      "execution_count": 10,
      "outputs": []
    },
    {
      "cell_type": "code",
      "source": [
        "model = genai.GenerativeModel(model_name=\"gemini-1.0-pro\",\n",
        "                              generation_config=generation_config,\n",
        "                              safety_settings=safety_settings,\n",
        ")"
      ],
      "metadata": {
        "id": "QzCJBxUHhpE9"
      },
      "execution_count": 11,
      "outputs": []
    },
    {
      "cell_type": "code",
      "source": [
        "response = model.generate_content(\"Quem foi Peter Gabriel?\")\n",
        "print(response.text)"
      ],
      "metadata": {
        "colab": {
          "base_uri": "https://localhost:8080/",
          "height": 419
        },
        "id": "Wb03DhnuiyEq",
        "outputId": "9edf16be-ecfe-4ed7-8d7f-aed545ee91e1"
      },
      "execution_count": 12,
      "outputs": [
        {
          "output_type": "stream",
          "name": "stdout",
          "text": [
            "Peter Gabriel é um músico, cantor, compositor e ativista inglês. Ele foi o vocalista e flautista da banda de rock progressivo Genesis de 1967 a 1975. Após deixar o Genesis, ele embarcou em uma carreira solo de sucesso, lançando vários álbuns de platina e ganhando vários prêmios, incluindo seis prêmios Grammy.\n",
            "\n",
            "**Carreira Musical:**\n",
            "\n",
            "* Vocalista e flautista do Genesis (1967-1975)\n",
            "* Carreira solo desde 1975\n",
            "* Álbuns solo notáveis: \"Peter Gabriel\" (1977), \"So\" (1986), \"Us\" (1992)\n",
            "* Singles de sucesso: \"Solsbury Hill\", \"Biko\", \"Sledgehammer\", \"Steam\"\n",
            "\n",
            "**Outros Destaques:**\n",
            "\n",
            "* Fundou o Real World Studios, um estúdio de gravação e gravadora\n",
            "* Produziu o álbum \"Passion\" com a música do filme \"A Última Tentação de Cristo\"\n",
            "* Criou o festival de música WOMAD (World of Music, Arts and Dance)\n",
            "* Ativista pelos direitos humanos e ambientais\n",
            "\n",
            "**Prêmios e Reconhecimentos:**\n",
            "\n",
            "* Seis prêmios Grammy\n",
            "* Três prêmios Brit\n",
            "* Introduzido no Rock and Roll Hall of Fame (2010)\n",
            "* Recebeu o título de Cavaleiro Celibatário em 2014 por seus serviços à música e à caridade\n"
          ]
        }
      ]
    },
    {
      "cell_type": "code",
      "source": [
        "chat = model.start_chat(history=[])"
      ],
      "metadata": {
        "id": "8hebdVq0jbkB"
      },
      "execution_count": 14,
      "outputs": []
    },
    {
      "cell_type": "code",
      "source": [
        "prompt = input(\"Esperando prompt: \")\n",
        "\n",
        "while prompt != \"fim\":\n",
        " response = chat.send_message(prompt)\n",
        " print(\"Resposta: \",response.text)\n",
        " prompt = input(\"Esperando prompt: \")"
      ],
      "metadata": {
        "colab": {
          "base_uri": "https://localhost:8080/"
        },
        "id": "78LAABWbkKwp",
        "outputId": "bded5572-a6f0-405b-a993-77d1fd048799"
      },
      "execution_count": 25,
      "outputs": [
        {
          "name": "stdout",
          "output_type": "stream",
          "text": [
            "Esperando prompt: fim\n"
          ]
        }
      ]
    },
    {
      "cell_type": "code",
      "source": [
        "#Melhorando a visualização\n",
        "#Código disponível em https://ai.google.dev/tutorials/python_quickstart#import_packages\n",
        "\n",
        "import textwrap\n",
        "from IPython.display import display\n",
        "from IPython.display import Markdown\n",
        "\n",
        "def to_markdown(text):\n",
        "  text = text.replace('*','\\*')\n",
        "  return Markdown(textwrap.indent(text,'> ', predicate=lambda _: True))\n",
        "\n",
        "#Imprimindo o histórico\n",
        "for message in chat.history:\n",
        "  display(to_markdown(f\"**{message.role}**: {message.parts[0].text}\"))\n",
        "  print('-------------------------------------------')"
      ],
      "metadata": {
        "colab": {
          "base_uri": "https://localhost:8080/",
          "height": 1000
        },
        "id": "i9GoD2D_rEn6",
        "outputId": "acc638a5-8452-4209-ee8b-bb6d727fcfbe"
      },
